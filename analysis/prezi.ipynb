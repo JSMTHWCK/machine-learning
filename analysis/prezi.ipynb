{
 "cells": [
  {
   "cell_type": "markdown",
   "metadata": {},
   "source": [
    "**hypothesis**\n",
    "---\n",
    "* games with multiple sequels (new mario, fifa, cod etc) will have lower critic ratings w/ higher critic counts\n",
    "* non e games don't do that well on nintendo consoles\n",
    "* most nintendo games are platformers\n",
    "* (combination of top two) most e games are platformers\n",
    "* critic scores and user scores will often be similar\n",
    "* \"shovelware\"(in this case misc (although not all are)) are most predominant on Nintendo consoles\n",
    "* sport games will be of similar quantity throughout all consoles\n",
    "* NA holds more than 50% of global sales\n",
    "* indie/less well known companies will have lower critic reviews, higher user score (still not that high)\n",
    "* older games will have higher average sales (due to having less \"non quality\" games back then)"
   ]
  },
  {
   "cell_type": "code",
   "execution_count": 4,
   "metadata": {},
   "outputs": [],
   "source": [
    "import numpy as np \n",
    "import pandas as pd \n",
    "import matplotlib.pyplot as plt \n",
    "import seaborn as sns\n"
   ]
  },
  {
   "cell_type": "code",
   "execution_count": 5,
   "metadata": {},
   "outputs": [],
   "source": [
    "games = pd.read_csv(\"../analysis/gamedata.csv\")\n",
    "#games\n"
   ]
  },
  {
   "cell_type": "code",
   "execution_count": 6,
   "metadata": {},
   "outputs": [
    {
     "data": {
      "image/png": "[encoded data removed]",
      "text/plain": [
       "<Figure size 576x576 with 1 Axes>"
      ]
     },
     "metadata": {
      "needs_background": "light"
     },
     "output_type": "display_data"
    }
   ],
   "source": [
    "#most nintendo games are platformers\n",
    "games[games[\"Publisher\"] == \"Nintendo\"][\"Genre\"].value_counts()\n",
    "nintendo_genre = pd.crosstab(index=games[games[\"Publisher\"] == \"Nintendo\"][\"Genre\"],columns=\"count\")\n",
    "nintendo_genre.plot(kind=\"bar\",figsize =(8,8));"
   ]
  },
  {
   "cell_type": "code",
   "execution_count": 7,
   "metadata": {},
   "outputs": [
    {
     "data": {
      "text/html": [
       "<div>\n",
       "<style scoped>\n",
       "    .dataframe tbody tr th:only-of-type {\n",
       "        vertical-align: middle;\n",
       "    }\n",
       "\n",
       "    .dataframe tbody tr th {\n",
       "        vertical-align: top;\n",
       "    }\n",
       "\n",
       "    .dataframe thead th {\n",
       "        text-align: right;\n",
       "    }\n",
       "</style>\n",
       "<table border=\"1\" class=\"dataframe\">\n",
       "  <thead>\n",
       "    <tr style=\"text-align: right;\">\n",
       "      <th></th>\n",
       "      <th>Name</th>\n",
       "      <th>Platform</th>\n",
       "      <th>Year_of_Release</th>\n",
       "      <th>Genre</th>\n",
       "      <th>Publisher</th>\n",
       "      <th>NA_Sales</th>\n",
       "      <th>EU_Sales</th>\n",
       "      <th>JP_Sales</th>\n",
       "      <th>Other_Sales</th>\n",
       "      <th>Global_Sales</th>\n",
       "      <th>Critic_Score</th>\n",
       "      <th>Critic_Count</th>\n",
       "      <th>User_Score</th>\n",
       "      <th>User_Count</th>\n",
       "      <th>Developer</th>\n",
       "      <th>Rating</th>\n",
       "      <th>Manufacturer</th>\n",
       "      <th>Team_Size</th>\n",
       "      <th>Series</th>\n",
       "    </tr>\n",
       "  </thead>\n",
       "  <tbody>\n",
       "    <tr>\n",
       "      <th>0</th>\n",
       "      <td>Wii Sports</td>\n",
       "      <td>Wii</td>\n",
       "      <td>2006.0</td>\n",
       "      <td>Sports</td>\n",
       "      <td>Nintendo</td>\n",
       "      <td>41.36</td>\n",
       "      <td>28.96</td>\n",
       "      <td>3.77</td>\n",
       "      <td>8.45</td>\n",
       "      <td>82.53</td>\n",
       "      <td>76.0</td>\n",
       "      <td>51.0</td>\n",
       "      <td>80.0</td>\n",
       "      <td>322.0</td>\n",
       "      <td>Nintendo</td>\n",
       "      <td>E</td>\n",
       "      <td>Nintendo</td>\n",
       "      <td>AAA</td>\n",
       "      <td>False</td>\n",
       "    </tr>\n",
       "    <tr>\n",
       "      <th>1</th>\n",
       "      <td>Super Mario Bros.</td>\n",
       "      <td>NES</td>\n",
       "      <td>1985.0</td>\n",
       "      <td>Platform</td>\n",
       "      <td>Nintendo</td>\n",
       "      <td>29.08</td>\n",
       "      <td>3.58</td>\n",
       "      <td>6.81</td>\n",
       "      <td>0.77</td>\n",
       "      <td>40.24</td>\n",
       "      <td>NaN</td>\n",
       "      <td>NaN</td>\n",
       "      <td>NaN</td>\n",
       "      <td>NaN</td>\n",
       "      <td>NaN</td>\n",
       "      <td>NaN</td>\n",
       "      <td>Nintendo</td>\n",
       "      <td>AAA</td>\n",
       "      <td>False</td>\n",
       "    </tr>\n",
       "    <tr>\n",
       "      <th>2</th>\n",
       "      <td>Mario Kart Wii</td>\n",
       "      <td>Wii</td>\n",
       "      <td>2008.0</td>\n",
       "      <td>Racing</td>\n",
       "      <td>Nintendo</td>\n",
       "      <td>15.68</td>\n",
       "      <td>12.76</td>\n",
       "      <td>3.79</td>\n",
       "      <td>3.29</td>\n",
       "      <td>35.52</td>\n",
       "      <td>82.0</td>\n",
       "      <td>73.0</td>\n",
       "      <td>83.0</td>\n",
       "      <td>709.0</td>\n",
       "      <td>Nintendo</td>\n",
       "      <td>E</td>\n",
       "      <td>Nintendo</td>\n",
       "      <td>AAA</td>\n",
       "      <td>True</td>\n",
       "    </tr>\n",
       "    <tr>\n",
       "      <th>3</th>\n",
       "      <td>Wii Sports Resort</td>\n",
       "      <td>Wii</td>\n",
       "      <td>2009.0</td>\n",
       "      <td>Sports</td>\n",
       "      <td>Nintendo</td>\n",
       "      <td>15.61</td>\n",
       "      <td>10.93</td>\n",
       "      <td>3.28</td>\n",
       "      <td>2.95</td>\n",
       "      <td>32.77</td>\n",
       "      <td>80.0</td>\n",
       "      <td>73.0</td>\n",
       "      <td>80.0</td>\n",
       "      <td>192.0</td>\n",
       "      <td>Nintendo</td>\n",
       "      <td>E</td>\n",
       "      <td>Nintendo</td>\n",
       "      <td>AAA</td>\n",
       "      <td>True</td>\n",
       "    </tr>\n",
       "    <tr>\n",
       "      <th>4</th>\n",
       "      <td>Pokemon Red/Pokemon Blue</td>\n",
       "      <td>GB</td>\n",
       "      <td>1996.0</td>\n",
       "      <td>Role-Playing</td>\n",
       "      <td>Nintendo</td>\n",
       "      <td>11.27</td>\n",
       "      <td>8.89</td>\n",
       "      <td>10.22</td>\n",
       "      <td>1.00</td>\n",
       "      <td>31.37</td>\n",
       "      <td>NaN</td>\n",
       "      <td>NaN</td>\n",
       "      <td>NaN</td>\n",
       "      <td>NaN</td>\n",
       "      <td>NaN</td>\n",
       "      <td>NaN</td>\n",
       "      <td>Nintendo</td>\n",
       "      <td>AAA</td>\n",
       "      <td>False</td>\n",
       "    </tr>\n",
       "    <tr>\n",
       "      <th>...</th>\n",
       "      <td>...</td>\n",
       "      <td>...</td>\n",
       "      <td>...</td>\n",
       "      <td>...</td>\n",
       "      <td>...</td>\n",
       "      <td>...</td>\n",
       "      <td>...</td>\n",
       "      <td>...</td>\n",
       "      <td>...</td>\n",
       "      <td>...</td>\n",
       "      <td>...</td>\n",
       "      <td>...</td>\n",
       "      <td>...</td>\n",
       "      <td>...</td>\n",
       "      <td>...</td>\n",
       "      <td>...</td>\n",
       "      <td>...</td>\n",
       "      <td>...</td>\n",
       "      <td>...</td>\n",
       "    </tr>\n",
       "    <tr>\n",
       "      <th>16714</th>\n",
       "      <td>Samurai Warriors: Sanada Maru</td>\n",
       "      <td>PS3</td>\n",
       "      <td>2016.0</td>\n",
       "      <td>Action</td>\n",
       "      <td>Tecmo Koei</td>\n",
       "      <td>0.00</td>\n",
       "      <td>0.00</td>\n",
       "      <td>0.01</td>\n",
       "      <td>0.00</td>\n",
       "      <td>0.01</td>\n",
       "      <td>NaN</td>\n",
       "      <td>NaN</td>\n",
       "      <td>NaN</td>\n",
       "      <td>NaN</td>\n",
       "      <td>NaN</td>\n",
       "      <td>NaN</td>\n",
       "      <td>Sony</td>\n",
       "      <td>AAA</td>\n",
       "      <td>True</td>\n",
       "    </tr>\n",
       "    <tr>\n",
       "      <th>16715</th>\n",
       "      <td>LMA Manager 2007</td>\n",
       "      <td>X360</td>\n",
       "      <td>2006.0</td>\n",
       "      <td>Sports</td>\n",
       "      <td>Codemasters</td>\n",
       "      <td>0.00</td>\n",
       "      <td>0.01</td>\n",
       "      <td>0.00</td>\n",
       "      <td>0.00</td>\n",
       "      <td>0.01</td>\n",
       "      <td>NaN</td>\n",
       "      <td>NaN</td>\n",
       "      <td>NaN</td>\n",
       "      <td>NaN</td>\n",
       "      <td>NaN</td>\n",
       "      <td>NaN</td>\n",
       "      <td>Microsoft</td>\n",
       "      <td>AAA</td>\n",
       "      <td>True</td>\n",
       "    </tr>\n",
       "    <tr>\n",
       "      <th>16716</th>\n",
       "      <td>Haitaka no Psychedelica</td>\n",
       "      <td>PSV</td>\n",
       "      <td>2016.0</td>\n",
       "      <td>Adventure</td>\n",
       "      <td>Idea Factory</td>\n",
       "      <td>0.00</td>\n",
       "      <td>0.00</td>\n",
       "      <td>0.01</td>\n",
       "      <td>0.00</td>\n",
       "      <td>0.01</td>\n",
       "      <td>NaN</td>\n",
       "      <td>NaN</td>\n",
       "      <td>NaN</td>\n",
       "      <td>NaN</td>\n",
       "      <td>NaN</td>\n",
       "      <td>NaN</td>\n",
       "      <td>Sony</td>\n",
       "      <td>Non AAA</td>\n",
       "      <td>True</td>\n",
       "    </tr>\n",
       "    <tr>\n",
       "      <th>16717</th>\n",
       "      <td>Spirits &amp; Spells</td>\n",
       "      <td>GBA</td>\n",
       "      <td>2003.0</td>\n",
       "      <td>Platform</td>\n",
       "      <td>Wanadoo</td>\n",
       "      <td>0.01</td>\n",
       "      <td>0.00</td>\n",
       "      <td>0.00</td>\n",
       "      <td>0.00</td>\n",
       "      <td>0.01</td>\n",
       "      <td>NaN</td>\n",
       "      <td>NaN</td>\n",
       "      <td>NaN</td>\n",
       "      <td>NaN</td>\n",
       "      <td>NaN</td>\n",
       "      <td>NaN</td>\n",
       "      <td>Nintendo</td>\n",
       "      <td>Non AAA</td>\n",
       "      <td>True</td>\n",
       "    </tr>\n",
       "    <tr>\n",
       "      <th>16718</th>\n",
       "      <td>Winning Post 8 2016</td>\n",
       "      <td>PSV</td>\n",
       "      <td>2016.0</td>\n",
       "      <td>Simulation</td>\n",
       "      <td>Tecmo Koei</td>\n",
       "      <td>0.00</td>\n",
       "      <td>0.00</td>\n",
       "      <td>0.01</td>\n",
       "      <td>0.00</td>\n",
       "      <td>0.01</td>\n",
       "      <td>NaN</td>\n",
       "      <td>NaN</td>\n",
       "      <td>NaN</td>\n",
       "      <td>NaN</td>\n",
       "      <td>NaN</td>\n",
       "      <td>NaN</td>\n",
       "      <td>Sony</td>\n",
       "      <td>AAA</td>\n",
       "      <td>True</td>\n",
       "    </tr>\n",
       "  </tbody>\n",
       "</table>\n",
       "<p>16719 rows × 19 columns</p>\n",
       "</div>"
      ],
      "text/plain": [
       "                                Name Platform  Year_of_Release         Genre  \\\n",
       "0                         Wii Sports      Wii           2006.0        Sports   \n",
       "1                  Super Mario Bros.      NES           1985.0      Platform   \n",
       "2                     Mario Kart Wii      Wii           2008.0        Racing   \n",
       "3                  Wii Sports Resort      Wii           2009.0        Sports   \n",
       "4           Pokemon Red/Pokemon Blue       GB           1996.0  Role-Playing   \n",
       "...                              ...      ...              ...           ...   \n",
       "16714  Samurai Warriors: Sanada Maru      PS3           2016.0        Action   \n",
       "16715               LMA Manager 2007     X360           2006.0        Sports   \n",
       "16716        Haitaka no Psychedelica      PSV           2016.0     Adventure   \n",
       "16717               Spirits & Spells      GBA           2003.0      Platform   \n",
       "16718            Winning Post 8 2016      PSV           2016.0    Simulation   \n",
       "\n",
       "          Publisher  NA_Sales  EU_Sales  JP_Sales  Other_Sales  Global_Sales  \\\n",
       "0          Nintendo     41.36     28.96      3.77         8.45         82.53   \n",
       "1          Nintendo     29.08      3.58      6.81         0.77         40.24   \n",
       "2          Nintendo     15.68     12.76      3.79         3.29         35.52   \n",
       "3          Nintendo     15.61     10.93      3.28         2.95         32.77   \n",
       "4          Nintendo     11.27      8.89     10.22         1.00         31.37   \n",
       "...             ...       ...       ...       ...          ...           ...   \n",
       "16714    Tecmo Koei      0.00      0.00      0.01         0.00          0.01   \n",
       "16715   Codemasters      0.00      0.01      0.00         0.00          0.01   \n",
       "16716  Idea Factory      0.00      0.00      0.01         0.00          0.01   \n",
       "16717       Wanadoo      0.01      0.00      0.00         0.00          0.01   \n",
       "16718    Tecmo Koei      0.00      0.00      0.01         0.00          0.01   \n",
       "\n",
       "       Critic_Score  Critic_Count  User_Score  User_Count Developer Rating  \\\n",
       "0              76.0          51.0        80.0       322.0  Nintendo      E   \n",
       "1               NaN           NaN         NaN         NaN       NaN    NaN   \n",
       "2              82.0          73.0        83.0       709.0  Nintendo      E   \n",
       "3              80.0          73.0        80.0       192.0  Nintendo      E   \n",
       "4               NaN           NaN         NaN         NaN       NaN    NaN   \n",
       "...             ...           ...         ...         ...       ...    ...   \n",
       "16714           NaN           NaN         NaN         NaN       NaN    NaN   \n",
       "16715           NaN           NaN         NaN         NaN       NaN    NaN   \n",
       "16716           NaN           NaN         NaN         NaN       NaN    NaN   \n",
       "16717           NaN           NaN         NaN         NaN       NaN    NaN   \n",
       "16718           NaN           NaN         NaN         NaN       NaN    NaN   \n",
       "\n",
       "      Manufacturer Team_Size  Series  \n",
       "0         Nintendo       AAA   False  \n",
       "1         Nintendo       AAA   False  \n",
       "2         Nintendo       AAA    True  \n",
       "3         Nintendo       AAA    True  \n",
       "4         Nintendo       AAA   False  \n",
       "...            ...       ...     ...  \n",
       "16714         Sony       AAA    True  \n",
       "16715    Microsoft       AAA    True  \n",
       "16716         Sony   Non AAA    True  \n",
       "16717     Nintendo   Non AAA    True  \n",
       "16718         Sony       AAA    True  \n",
       "\n",
       "[16719 rows x 19 columns]"
      ]
     },
     "execution_count": 7,
     "metadata": {},
     "output_type": "execute_result"
    }
   ],
   "source": [
    "#adding extra column\n",
    "#apply function\n",
    "pd.set_option('display.max_rows', 10)\n",
    "\n",
    "def get_manufacturer(platform):\n",
    "    x = 0\n",
    "    b = {\"PS\":\"Sony\", \"DS\":\"Nintendo\", \"Wii\":\"Nintendo\", \"X\":\"Microsoft\", \"PC\":\"Pc\",\"GB\":\"Nintendo\", \"GC\":\"Nintendo\", \"N64\":\"Nintendo\",  \"NES\":\"Nintendo\"}\n",
    "    for item in list(b):\n",
    "        if item in platform:\n",
    "            return list(b.values())[x]\n",
    "            break\n",
    "        elif x < len(b):\n",
    "            x +=1\n",
    "        else:\n",
    "            return \"Other\"\n",
    "    \n",
    "def team_size(producer):\n",
    "    if pd.isna(producer):\n",
    "        return \"Unknown\"\n",
    "    if pub_count[pub_count[\"Name\"] == str(producer)][\"Count\"].item() >= 150:\n",
    "        return \"AAA\"\n",
    "    else:\n",
    "        return \"Non AAA\"\n",
    "def is_series(name):\n",
    "    for item in list(visited):\n",
    "        if pd.isna(name):\n",
    "            return False\n",
    "        if item in name:\n",
    "            return True\n",
    "    split_name = name.split()\n",
    "    for item in split_name:\n",
    "        visited[str(item)] = True\n",
    "    return False\n",
    "def replace_tbd(x):\n",
    "    if x == 'tbd':\n",
    "        return np.NaN\n",
    "    return x \n",
    "#get manufacturer    \n",
    "games['Manufacturer'] = games['Platform'].apply(get_manufacturer)\n",
    "games_output = games['Publisher'].value_counts().reset_index()\n",
    "games_output.columns = ['Name', 'Count']\n",
    "games_output.to_csv('Publisher_value_count.csv')\n",
    "pub_count = pd.read_csv(\"../analysis/Publisher_value_count.csv\")\n",
    "#Team size\n",
    "games['Team_Size'] = games[\"Publisher\"].apply(team_size)\n",
    "#User score string to float\n",
    "games[\"User_Score\"] = games[\"User_Score\"].apply(replace_tbd)\n",
    "games['User_Score'] = games['User_Score'].astype(float) * 10\n",
    "#series\n",
    "visited = {}\n",
    "\n",
    "games['Series'] = games['Name'].apply(is_series)\n",
    "\n",
    "\n",
    "games"
   ]
  },
  {
   "cell_type": "code",
   "execution_count": 8,
   "metadata": {},
   "outputs": [
    {
     "data": {
      "image/png": "[encoded data removed]",
      "text/plain": [
       "<Figure size 432x288 with 1 Axes>"
      ]
     },
     "metadata": {
      "needs_background": "light"
     },
     "output_type": "display_data"
    }
   ],
   "source": [
    "#older games will have higher average sales (due to having less \"non quality\" games back then)\n",
    "ax = sns.regplot(x=\"Year_of_Release\", y=\"Global_Sales\", data=games)\n",
    "#no difference, you can barely see the line betwen 2015 & 2020, with no growth"
   ]
  },
  {
   "cell_type": "code",
   "execution_count": 9,
   "metadata": {},
   "outputs": [
    {
     "data": {
      "text/plain": [
       "<AxesSubplot:ylabel='Manufacturer'>"
      ]
     },
     "execution_count": 9,
     "metadata": {},
     "output_type": "execute_result"
    },
    {
     "data": {
      "image/png": "[encoded data removed]",
      "text/plain": [
       "<Figure size 432x288 with 1 Axes>"
      ]
     },
     "metadata": {},
     "output_type": "display_data"
    }
   ],
   "source": [
    "\n",
    "#sport games will be of similar quantity throughout all consoles\n",
    "sports = games[games[\"Genre\"] == \"Sports\"][\"Manufacturer\"]\n",
    "sport_count = sports.value_counts()\n",
    "sport_count.plot(kind='pie',fontsize=10)\n",
    "#sony & nintendo have similar, while microsoft / pc is farther behind\n"
   ]
  },
  {
   "cell_type": "code",
   "execution_count": 10,
   "metadata": {},
   "outputs": [
    {
     "name": "stdout",
     "output_type": "stream",
     "text": [
      "0.5418795970814995\n"
     ]
    },
    {
     "data": {
      "image/png": "[encoded data removed]",
      "text/plain": [
       "<Figure size 432x288 with 1 Axes>"
      ]
     },
     "metadata": {},
     "output_type": "display_data"
    }
   ],
   "source": [
    "#NA holds more than 50% of global sales\n",
    "games.columns\n",
    "na_average = games['NA_Sales'].mean()\n",
    "eu_average = games['EU_Sales'].mean()\n",
    "jp_average = games[\"JP_Sales\"].mean()\n",
    "print(na_average/(na_average + eu_average + jp_average))\n",
    "\n",
    "\n",
    "labels= ['NA', 'EU', 'JP']\n",
    "sizes= [na_average*100, eu_average* 100, jp_average*100]\n",
    "plt.pie(sizes,labels=labels)\n",
    "plt.axis('equal')\n",
    "plt.show()\n",
    "#True, about 54% of sales are NA"
   ]
  },
  {
   "cell_type": "code",
   "execution_count": 11,
   "metadata": {},
   "outputs": [
    {
     "data": {
      "text/plain": [
       "Sports          1188\n",
       "Racing           585\n",
       "Misc             457\n",
       "Action           416\n",
       "Platform         358\n",
       "                ... \n",
       "Adventure        162\n",
       "Role-Playing      84\n",
       "Strategy          70\n",
       "Shooter           48\n",
       "Fighting           8\n",
       "Name: Genre, Length: 12, dtype: int64"
      ]
     },
     "execution_count": 11,
     "metadata": {},
     "output_type": "execute_result"
    }
   ],
   "source": [
    "#(combination of top two) most e games are platformers\n",
    "games[games[\"Rating\"] == \"E\"][\"Genre\"].value_counts()\n",
    "#no, the most is sports, platform is #5"
   ]
  },
  {
   "cell_type": "code",
   "execution_count": 12,
   "metadata": {},
   "outputs": [
    {
     "name": "stdout",
     "output_type": "stream",
     "text": [
      "66.05689655172414\n",
      "68.96767850559173\n"
     ]
    }
   ],
   "source": [
    "#non e games don't do that well on nintendo consoles\n",
    "x = games[(games[\"Manufacturer\"] == \"Nintendo\") & (games[\"Rating\"] != \"E\")]\n",
    "x_mean = x[\"Critic_Score\"].mean()\n",
    "print(x_mean)\n",
    "y = games[\"Critic_Score\"].mean()\n",
    "print(y)\n",
    "\n",
    "#False, the values are close enough to be considered similar (I was expecting ~ 10 - 15% difference)"
   ]
  },
  {
   "cell_type": "code",
   "execution_count": 13,
   "metadata": {},
   "outputs": [
    {
     "name": "stderr",
     "output_type": "stream",
     "text": [
      "/tmp/ipykernel_34083/855948867.py:2: FutureWarning: Indexing with multiple keys (implicitly converted to a tuple of keys) will be deprecated, use a list instead.\n",
      "  games.groupby(\"Genre\")[\"Critic_Score\",\"User_Score\"].mean().plot.bar()\n"
     ]
    },
    {
     "data": {
      "text/plain": [
       "<AxesSubplot:xlabel='Genre'>"
      ]
     },
     "execution_count": 13,
     "metadata": {},
     "output_type": "execute_result"
    },
    {
     "data": {
      "image/png": "[encoded data removed]",
      "text/plain": [
       "<Figure size 432x288 with 1 Axes>"
      ]
     },
     "metadata": {
      "needs_background": "light"
     },
     "output_type": "display_data"
    }
   ],
   "source": [
    "#Critc scores and user scores will often be similar\n",
    "games.groupby(\"Genre\")[\"Critic_Score\",\"User_Score\"].mean().plot.bar()\n",
    "#True"
   ]
  },
  {
   "cell_type": "code",
   "execution_count": 14,
   "metadata": {},
   "outputs": [
    {
     "data": {
      "text/plain": [
       "<AxesSubplot:ylabel='Manufacturer'>"
      ]
     },
     "execution_count": 14,
     "metadata": {},
     "output_type": "execute_result"
    },
    {
     "data": {
      "image/png": "[encoded data removed]",
      "text/plain": [
       "<Figure size 432x288 with 1 Axes>"
      ]
     },
     "metadata": {},
     "output_type": "display_data"
    }
   ],
   "source": [
    "#\"shovelware\" are most predominant on Nintendo Consoles\n",
    "games[\"Genre\"].value_counts()\n",
    "\n",
    "misc = games[games[\"Genre\"] == \"Misc\"][\"Manufacturer\"]\n",
    "misc_count = misc.value_counts()\n",
    "misc_count.plot(kind='pie',fontsize=10)\n",
    "#True"
   ]
  },
  {
   "cell_type": "code",
   "execution_count": 15,
   "metadata": {},
   "outputs": [
    {
     "name": "stdout",
     "output_type": "stream",
     "text": [
      "68.9468405215647\n",
      "70.0\n"
     ]
    }
   ],
   "source": [
    "#games with multiple sequels (new mario, fifa, cod etc) will have lower critic ratings\n",
    "x = games[games[\"Series\"] == True][\"Critic_Score\"].mean()\n",
    "y = games[games[\"Series\"] == False][\"Critic_Score\"].mean()\n",
    "\n",
    "print(x)\n",
    "print(y)\n",
    "#well yes, but actually no (good reviews = sequels, despite people getting bored of new soup for the 100th time)"
   ]
  },
  {
   "cell_type": "code",
   "execution_count": 16,
   "metadata": {},
   "outputs": [
    {
     "name": "stdout",
     "output_type": "stream",
     "text": [
      "63.966239813736905\n",
      "69.60466666666666\n"
     ]
    }
   ],
   "source": [
    "#indie/less well known companies will have lower critic reviews, higher user score \n",
    "x = games[games[\"Team_Size\"] == \"Non AAA\"][\"Critic_Score\"].mean()\n",
    "y = games[games[\"Team_Size\"] == \"Non AAA\"][\"User_Score\"].mean()\n",
    "\n",
    "print(x)\n",
    "print(y)\n",
    "\n",
    "#True"
   ]
  }
 ],
 "metadata": {
  "interpreter": {
   "hash": "625c31d6b4db3d7e7e2853cc30dc2062e1cda684f3e49d5f899ae496ae755fe0"
  },
  "kernelspec": {
   "display_name": "Python 3.8.12 64-bit ('3.8.12': pyenv)",
   "name": "python3"
  },
  "language_info": {
   "codemirror_mode": {
    "name": "ipython",
    "version": 3
   },
   "file_extension": ".py",
   "mimetype": "text/x-python",
   "name": "python",
   "nbconvert_exporter": "python",
   "pygments_lexer": "ipython3",
   "version": "3.9.7"
  },
  "orig_nbformat": 4
 },
 "nbformat": 4,
 "nbformat_minor": 2
}
