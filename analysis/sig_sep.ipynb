{
 "cells": [
  {
   "cell_type": "code",
   "execution_count": 19,
   "metadata": {},
   "outputs": [],
   "source": [
    "import matplotlib.pyplot as plt\n",
    "import math\n",
    "import sys\n",
    "sys.path.insert(1, sys.path[0].replace('analysis', 'src'))\n",
    "from matrix import *\n",
    "from linearRegressor import *"
   ]
  },
  {
   "cell_type": "code",
   "execution_count": 25,
   "metadata": {},
   "outputs": [],
   "source": [
    "data = [(0.0, 7.0), (0.2, 5.6), (0.4, 3.56), (0.6, 1.23), (0.8, -1.03),\n",
    " (1.0, -2.89), (1.2, -4.06), (1.4, -4.39), (1.6, -3.88), (1.8, -2.64),\n",
    " (2.0, -0.92), (2.2, 0.95), (2.4, 2.63), (2.6, 3.79), (2.8, 4.22),\n",
    " (3.0, 3.8), (3.2, 2.56), (3.4, 0.68), (3.6, -1.58), (3.8, -3.84),\n",
    " (4.0, -5.76), (4.2, -7.01), (4.4, -7.38), (4.6, -6.76), (4.8, -5.22)]\n",
    "\n",
    "sig_data = []\n",
    "for i in data:\n",
    "    i = list(i)\n",
    "    new_list = []\n",
    "    new_list.append(math.sin(i[0]))\n",
    "    new_list.append(math.cos(i[0]))\n",
    "    new_list.append(math.sin(2*i[0]))\n",
    "    new_list.append(math.cos(2*i[0]))\n",
    "    new_list.append(i[-1])\n",
    "    sig_data.append(new_list)"
   ]
  },
  {
   "cell_type": "code",
   "execution_count": 26,
   "metadata": {},
   "outputs": [
    {
     "data": {
      "text/plain": [
       "-2.8879288512882"
      ]
     },
     "execution_count": 26,
     "metadata": {},
     "output_type": "execute_result"
    }
   ],
   "source": [
    "l = LinearRegressor()\n",
    "l.fit(sig_data)\n",
    "a = l.coefficients\n",
    "def predict(coefficients,point):\n",
    "    return coefficients[0] *math.sin(point) + coefficients[1] * math.cos(point) + coefficients[2]*math.sin(2 * point) + coefficients[3]*math.cos(2 * point)\n",
    "predict(a,1)"
   ]
  },
  {
   "cell_type": "code",
   "execution_count": 30,
   "metadata": {},
   "outputs": [
    {
     "data": {
      "text/plain": [
       "<matplotlib.collections.PathCollection at 0x7f73db49b6d0>"
      ]
     },
     "execution_count": 30,
     "metadata": {},
     "output_type": "execute_result"
    },
    {
     "data": {
      "image/png": "[encoded data removed]",
      "text/plain": [
       "<Figure size 432x288 with 1 Axes>"
      ]
     },
     "metadata": {
      "needs_background": "light"
     },
     "output_type": "display_data"
    }
   ],
   "source": [
    "x = [i for i in range (0,50)]\n",
    "for i in range(len(x)):\n",
    "    x[i] = x[i] / 10\n",
    "y = [predict(a,i) for i in x]\n",
    "\n",
    "data_x = [i[0] for i in data]\n",
    "data_y = [i[1] for i in data]\n",
    "plt.plot(x,y)\n",
    "plt.scatter(data_x,data_y)"
   ]
  }
 ],
 "metadata": {
  "interpreter": {
   "hash": "916dbcbb3f70747c44a77c7bcd40155683ae19c65e1c03b4aa3499c5328201f1"
  },
  "kernelspec": {
   "display_name": "Python 3.8.10 64-bit",
   "language": "python",
   "name": "python3"
  },
  "language_info": {
   "codemirror_mode": {
    "name": "ipython",
    "version": 3
   },
   "file_extension": ".py",
   "mimetype": "text/x-python",
   "name": "python",
   "nbconvert_exporter": "python",
   "pygments_lexer": "ipython3",
   "version": "3.8.10"
  },
  "orig_nbformat": 4
 },
 "nbformat": 4,
 "nbformat_minor": 2
}
