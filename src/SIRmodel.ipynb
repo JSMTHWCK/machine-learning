{
 "cells": [
  {
   "cell_type": "code",
   "execution_count": 1,
   "metadata": {},
   "outputs": [],
   "source": [
    "import matplotlib.pyplot as plt \n",
    "import sys\n",
    "sys.path.insert(1, sys.path[0].replace('analysis', 'src'))\n",
    "from gen_estimator import *"
   ]
  },
  {
   "cell_type": "code",
   "execution_count": 2,
   "metadata": {},
   "outputs": [],
   "source": [
    "def ds_dt(t,state):\n",
    "    return -1 * state['I'] * state['S'] * 0.001 * 0.03\n",
    "def di_dt(t,state):\n",
    "    return state['I'] * state['S'] * 0.01 * 0.03 - 0.02 * state['I']\n",
    "def dr_dt(t,state):\n",
    "    return 0.02 * state['I']"
   ]
  },
  {
   "cell_type": "code",
   "execution_count": 3,
   "metadata": {},
   "outputs": [],
   "source": [
    "derivatives = {\n",
    "    'S':ds_dt,\n",
    "    'I': di_dt,\n",
    "    'R': dr_dt\n",
    "}"
   ]
  },
  {
   "cell_type": "code",
   "execution_count": null,
   "metadata": {},
   "outputs": [],
   "source": [
    "init_state = {'S':1000,'I':1,'R':0}\n",
    "model = "
   ]
  }
 ],
 "metadata": {
  "kernelspec": {
   "display_name": "Python 3.8.10 64-bit",
   "language": "python",
   "name": "python3"
  },
  "language_info": {
   "codemirror_mode": {
    "name": "ipython",
    "version": 3
   },
   "file_extension": ".py",
   "mimetype": "text/x-python",
   "name": "python",
   "nbconvert_exporter": "python",
   "pygments_lexer": "ipython3",
   "version": "3.8.10"
  },
  "orig_nbformat": 4,
  "vscode": {
   "interpreter": {
    "hash": "916dbcbb3f70747c44a77c7bcd40155683ae19c65e1c03b4aa3499c5328201f1"
   }
  }
 },
 "nbformat": 4,
 "nbformat_minor": 2
}
