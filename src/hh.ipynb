{
 "cells": [
  {
   "cell_type": "code",
   "execution_count": 32,
   "metadata": {},
   "outputs": [],
   "source": [
    "import matplotlib.pyplot as plt \n",
    "from gen_estimator import *\n",
    "import math"
   ]
  },
  {
   "cell_type": "code",
   "execution_count": 33,
   "metadata": {},
   "outputs": [],
   "source": [
    "V_0 = 0\n",
    "n_0 = 0.317676914\n",
    "m_0 = 0.0529324854\n",
    "h_0 = 0.596120753\n",
    "\n",
    "C = 1\n",
    "V_Na = 115\n",
    "V_k = -12\n",
    "V_L = 10.6\n",
    "\n",
    "\n",
    "_g_Na = 120\n",
    "_g_K = 36\n",
    "_g_l = 0.3\n",
    "\n",
    "\n",
    "\n",
    "def g_Na(t,state):\n",
    "    return _g_Na * state['m']**3 * state['h']\n",
    "def g_k(t,state):\n",
    "    return _g_K * state['n'] ** 4\n",
    "def g_l(t,state):\n",
    "    return _g_l\n"
   ]
  },
  {
   "cell_type": "code",
   "execution_count": 34,
   "metadata": {},
   "outputs": [],
   "source": [
    "def I_Na(t,state):\n",
    "    return g_Na(t,state)* (state['V'] - V_Na)\n",
    "def I_K(t,state):\n",
    "    return g_k(t,state) * (state['V']- V_k)\n",
    "def I_L(t,state):\n",
    "    return g_l(t,state) * (state['V'] - V_L)"
   ]
  },
  {
   "cell_type": "code",
   "execution_count": 35,
   "metadata": {},
   "outputs": [],
   "source": [
    "def alp_n(t,state):\n",
    "    return (0.01 * (10 - state['V'])) / (math.exp(0.1 * (10 - state['V'])) - 1)\n",
    "    \n",
    "def beta_n(t,state):\n",
    "    return 0.125 * math.exp(state['V'] / -80)\n",
    "def alp_m(t,state):\n",
    "    return (0.1 * (25 - state['V'])) / (math.exp(0.1 * (25 - state['V'])) - 1)\n",
    "\n",
    "def beta_m(t,state):\n",
    "    return 4 * math.exp(state['V'] / -18)\n",
    "\n",
    "def alp_h(t,state):\n",
    "    return 0.07 * math.exp(state['V'] / -20)\n",
    "    \n",
    "def beta_h(t,state):\n",
    "    return 1 / (math.exp(0.1 * (30 - state['V'])) + 1)\n",
    "    \n"
   ]
  },
  {
   "cell_type": "code",
   "execution_count": 36,
   "metadata": {},
   "outputs": [],
   "source": [
    "\n",
    "\n",
    "def s(t):\n",
    "    if (10 <= t <= 11) or (20 <= t <= 21) or (30 <= t <= 40) or (50 <= t <= 51) or (53 <= t <= 54) or (56 <= t <= 57) or (59 <= t <= 60) or (62 <= t <= 63) or (65 <= t <= 66):\n",
    "        return 150\n",
    "    else:\n",
    "        return 0\n",
    "\n",
    "\n",
    "\n",
    "def dV_dt(t,state):\n",
    "    return s(t) - I_Na(t, state) - I_K(t, state) - I_L(t, state)\n",
    "def dn_dt(t,state):\n",
    "    return alp_n(t,state) * (1 - state['n']) - beta_n(t,state) * state['n']\n",
    "\n",
    "def dm_dt(t,state):\n",
    "    return alp_m(t,state) * (1 - state['m']) - beta_m(t,state) * state['m']\n",
    "\n",
    "def dh_dt(t,state):\n",
    "    return alp_h(t, state) * (1 - state['h']) - beta_h(t, state) * state['h']\n",
    "\n",
    "\n",
    "derivatives = {\n",
    "    'V': dV_dt,\n",
    "    'n': dn_dt,\n",
    "    'm': dm_dt,\n",
    "    'h': dh_dt\n",
    "}"
   ]
  },
  {
   "cell_type": "code",
   "execution_count": 37,
   "metadata": {},
   "outputs": [],
   "source": [
    "initial_state = {'V':V_0, 'n':n_0, 'm':m_0, 'h':h_0}\n",
    "hh = gen_estimator(derivatives)\n",
    "est_points = hh.calc_estimated_points((0,initial_state),0.01,8000)\n",
    "x_axs = [p[0] for p in est_points]\n",
    "v_axs = [p[1]['V'] for p in est_points]\n",
    "n_axs = [p[1]['n'] for p in est_points]\n",
    "m_axs = [p[1]['m'] for p in est_points]\n",
    "h_axs = [p[1]['h'] for p in est_points]\n",
    "s_axs = [s(p) for p in x_axs]\n"
   ]
  },
  {
   "cell_type": "code",
   "execution_count": 38,
   "metadata": {},
   "outputs": [
    {
     "data": {
      "image/png": "[encoded data removed]",
      "text/plain": [
       "<Figure size 432x288 with 1 Axes>"
      ]
     },
     "metadata": {
      "needs_background": "light"
     },
     "output_type": "display_data"
    }
   ],
   "source": [
    "plt.plot(x_axs,v_axs, label=\"v_axs\")\n",
    "plt.plot(x_axs,n_axs, label=\"n_axs\")\n",
    "plt.plot(x_axs,m_axs, label=\"m_axs\")\n",
    "plt.plot(x_axs,h_axs, label=\"h_axs\")\n",
    "plt.plot(x_axs,s_axs, label=\"s_axs\")\n",
    "plt.legend()\n",
    "plt.show()"
   ]
  }
 ],
 "metadata": {
  "kernelspec": {
   "display_name": "Python 3.8.10 64-bit",
   "language": "python",
   "name": "python3"
  },
  "language_info": {
   "codemirror_mode": {
    "name": "ipython",
    "version": 3
   },
   "file_extension": ".py",
   "mimetype": "text/x-python",
   "name": "python",
   "nbconvert_exporter": "python",
   "pygments_lexer": "ipython3",
   "version": "3.8.10"
  },
  "orig_nbformat": 4,
  "vscode": {
   "interpreter": {
    "hash": "916dbcbb3f70747c44a77c7bcd40155683ae19c65e1c03b4aa3499c5328201f1"
   }
  }
 },
 "nbformat": 4,
 "nbformat_minor": 2
}
